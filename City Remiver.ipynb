{
 "cells": [
  {
   "cell_type": "code",
   "execution_count": 3,
   "metadata": {},
   "outputs": [
    {
     "name": "stdout",
     "output_type": "stream",
     "text": [
      "Deleted זוהר from city_to_coords.\n"
     ]
    }
   ],
   "source": [
    "import json\n",
    "\n",
    "# Path to your JSON file\n",
    "# json_file_path = 'path_to_your_json_file.json'\n",
    "# Path to the JSON file where coordinates are stored\n",
    "coords_file_path = './data/city_to_coords.json'\n",
    "\n",
    "# Load the JSON data into a dictionary\n",
    "with open(coords_file_path, 'r', encoding='utf-8') as file:\n",
    "    city_to_coords = json.load(file)\n",
    "\n",
    "# Key to delete\n",
    "key_to_delete = 'זוהר'\n",
    "\n",
    "# Check if the key exists and delete it\n",
    "if key_to_delete in city_to_coords:\n",
    "    del city_to_coords[key_to_delete]\n",
    "    print(f\"Deleted {key_to_delete} from city_to_coords.\")\n",
    "else:\n",
    "    print(f\"{key_to_delete} not found in city_to_coords.\")\n",
    "\n",
    "# Write the updated dictionary back to the JSON file\n",
    "with open(coords_file_path, 'w', encoding='utf-8') as file:\n",
    "    json.dump(city_to_coords, file, ensure_ascii=False, indent=4)\n"
   ]
  }
 ],
 "metadata": {
  "kernelspec": {
   "display_name": "base",
   "language": "python",
   "name": "python3"
  },
  "language_info": {
   "codemirror_mode": {
    "name": "ipython",
    "version": 3
   },
   "file_extension": ".py",
   "mimetype": "text/x-python",
   "name": "python",
   "nbconvert_exporter": "python",
   "pygments_lexer": "ipython3",
   "version": "3.9.18"
  }
 },
 "nbformat": 4,
 "nbformat_minor": 2
}
